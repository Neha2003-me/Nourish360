{
  "nbformat": 4,
  "nbformat_minor": 0,
  "metadata": {
    "colab": {
      "provenance": [],
      "authorship_tag": "ABX9TyPAWx4W+LiRfaLlWEDaTHcj",
      "include_colab_link": true
    },
    "kernelspec": {
      "name": "python3",
      "display_name": "Python 3"
    },
    "language_info": {
      "name": "python"
    }
  },
  "cells": [
    {
      "cell_type": "markdown",
      "metadata": {
        "id": "view-in-github",
        "colab_type": "text"
      },
      "source": [
        "<a href=\"https://colab.research.google.com/github/Neha2003-me/Nourish360/blob/main/Task_recommendation_system.ipynb\" target=\"_parent\"><img src=\"https://colab.research.google.com/assets/colab-badge.svg\" alt=\"Open In Colab\"/></a>"
      ]
    },
    {
      "cell_type": "code",
      "execution_count": 10,
      "metadata": {
        "colab": {
          "base_uri": "https://localhost:8080/"
        },
        "id": "2SyAwFLZ4zyW",
        "outputId": "10006683-319d-4332-e80d-ec035a9377d1"
      },
      "outputs": [
        {
          "output_type": "stream",
          "name": "stdout",
          "text": [
            "Recommended tasks based on selected skills:\n",
            "- Develop and implement software solutions for event management.\n",
            "- Craft engaging communication materials and manage public relations.\n"
          ]
        }
      ],
      "source": [
        "import pandas as pd\n",
        "from sklearn.feature_extraction.text import CountVectorizer\n",
        "from sklearn.naive_bayes import MultinomialNB\n",
        "import joblib\n",
        "\n",
        "# Load the dataset from CSV\n",
        "df = pd.read_csv(\"/content/tasks.csv\")\n",
        "\n",
        "# Convert the data into format suitable for training\n",
        "skills = df['Skills']\n",
        "tasks = df['Tasks']\n",
        "\n",
        "# Feature extraction using CountVectorizer\n",
        "vectorizer = CountVectorizer()\n",
        "skills_matrix = vectorizer.fit_transform(skills)\n",
        "\n",
        "# Train the classifier\n",
        "classifier = MultinomialNB()\n",
        "classifier.fit(skills_matrix, tasks)\n",
        "\n",
        "# Save the trained model for later use\n",
        "joblib.dump(classifier, 'task_recommendation_model.joblib')\n",
        "\n",
        "# Now let's provide recommendations based on user input\n",
        "def recommend_tasks(user_skills):\n",
        "    user_skills_matrix = vectorizer.transform(user_skills)\n",
        "    predictions = classifier.predict(user_skills_matrix)\n",
        "    return predictions\n",
        "\n",
        "# Example usage\n",
        "user_selected_skills = ['Programming', 'Communication']\n",
        "recommended_tasks = recommend_tasks(user_selected_skills)\n",
        "print(\"Recommended tasks based on selected skills:\")\n",
        "for task in recommended_tasks:\n",
        "    print(\"-\", task)\n"
      ]
    }
  ]
}